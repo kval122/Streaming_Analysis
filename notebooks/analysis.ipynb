{
 "cells": [
  {
   "cell_type": "code",
   "execution_count": 1,
   "metadata": {},
   "outputs": [],
   "source": [
    "# Import libraries\n",
    "import pandas as pd\n",
    "from scipy import stats\n",
    "import statsmodels.api as sm\n",
    "from statsmodels.stats.multicomp import pairwise_tukeyhsd\n",
    "import matplotlib.pyplot as plt\n",
    "import seaborn as sns\n",
    "import numpy as np\n",
    "from scipy.stats import f_oneway\n",
    "\n"
   ]
  },
  {
   "cell_type": "code",
   "execution_count": 2,
   "metadata": {},
   "outputs": [],
   "source": [
    "# Import dataframe\n",
    "platform_catalog = pd.read_csv(r\"C:\\Users\\kimbe\\Documents\\Capstone\\Streaming_Analysis\\data\\cleaned\\streaming_catalog.csv\")\n",
    "\n",
    "#Import popular title dataframe\n",
    "popular_titles = pd.read_csv(r\"C:\\Users\\kimbe\\Documents\\Capstone\\Streaming_Analysis\\data\\working\\top_rated_imdb_filtered.csv\")\n"
   ]
  },
  {
   "cell_type": "code",
   "execution_count": 3,
   "metadata": {},
   "outputs": [
    {
     "data": {
      "text/html": [
       "<div>\n",
       "<style scoped>\n",
       "    .dataframe tbody tr th:only-of-type {\n",
       "        vertical-align: middle;\n",
       "    }\n",
       "\n",
       "    .dataframe tbody tr th {\n",
       "        vertical-align: top;\n",
       "    }\n",
       "\n",
       "    .dataframe thead th {\n",
       "        text-align: right;\n",
       "    }\n",
       "</style>\n",
       "<table border=\"1\" class=\"dataframe\">\n",
       "  <thead>\n",
       "    <tr style=\"text-align: right;\">\n",
       "      <th></th>\n",
       "      <th>imdbId</th>\n",
       "      <th>title</th>\n",
       "      <th>type</th>\n",
       "      <th>releaseYear</th>\n",
       "      <th>rating</th>\n",
       "      <th>numVotes</th>\n",
       "      <th>highlyRated</th>\n",
       "      <th>exclusive</th>\n",
       "      <th>exclusiveHighlyRated</th>\n",
       "      <th>popularTitle</th>\n",
       "      <th>Platform</th>\n",
       "    </tr>\n",
       "  </thead>\n",
       "  <tbody>\n",
       "    <tr>\n",
       "      <th>2</th>\n",
       "      <td>tt0004873</td>\n",
       "      <td>Alice in Wonderland</td>\n",
       "      <td>movie</td>\n",
       "      <td>1915</td>\n",
       "      <td>6.1</td>\n",
       "      <td>804</td>\n",
       "      <td>0</td>\n",
       "      <td>1</td>\n",
       "      <td>0</td>\n",
       "      <td>0</td>\n",
       "      <td>Amazon</td>\n",
       "    </tr>\n",
       "    <tr>\n",
       "      <th>3</th>\n",
       "      <td>tt0005078</td>\n",
       "      <td>The Cheat</td>\n",
       "      <td>movie</td>\n",
       "      <td>1915</td>\n",
       "      <td>6.5</td>\n",
       "      <td>2893</td>\n",
       "      <td>0</td>\n",
       "      <td>1</td>\n",
       "      <td>0</td>\n",
       "      <td>0</td>\n",
       "      <td>Amazon</td>\n",
       "    </tr>\n",
       "    <tr>\n",
       "      <th>4</th>\n",
       "      <td>tt0005302</td>\n",
       "      <td>Fanchon, the Cricket</td>\n",
       "      <td>movie</td>\n",
       "      <td>1915</td>\n",
       "      <td>6.4</td>\n",
       "      <td>366</td>\n",
       "      <td>0</td>\n",
       "      <td>1</td>\n",
       "      <td>0</td>\n",
       "      <td>0</td>\n",
       "      <td>Amazon</td>\n",
       "    </tr>\n",
       "    <tr>\n",
       "      <th>5</th>\n",
       "      <td>tt0005339</td>\n",
       "      <td>A Fool There Was</td>\n",
       "      <td>movie</td>\n",
       "      <td>1915</td>\n",
       "      <td>5.7</td>\n",
       "      <td>1080</td>\n",
       "      <td>0</td>\n",
       "      <td>1</td>\n",
       "      <td>0</td>\n",
       "      <td>0</td>\n",
       "      <td>Amazon</td>\n",
       "    </tr>\n",
       "    <tr>\n",
       "      <th>7</th>\n",
       "      <td>tt0006327</td>\n",
       "      <td>Young Romance</td>\n",
       "      <td>movie</td>\n",
       "      <td>1915</td>\n",
       "      <td>5.8</td>\n",
       "      <td>223</td>\n",
       "      <td>0</td>\n",
       "      <td>1</td>\n",
       "      <td>0</td>\n",
       "      <td>0</td>\n",
       "      <td>Amazon</td>\n",
       "    </tr>\n",
       "  </tbody>\n",
       "</table>\n",
       "</div>"
      ],
      "text/plain": [
       "      imdbId                 title   type  releaseYear  rating  numVotes  \\\n",
       "2  tt0004873   Alice in Wonderland  movie         1915     6.1       804   \n",
       "3  tt0005078             The Cheat  movie         1915     6.5      2893   \n",
       "4  tt0005302  Fanchon, the Cricket  movie         1915     6.4       366   \n",
       "5  tt0005339      A Fool There Was  movie         1915     5.7      1080   \n",
       "7  tt0006327         Young Romance  movie         1915     5.8       223   \n",
       "\n",
       "   highlyRated  exclusive  exclusiveHighlyRated  popularTitle Platform  \n",
       "2            0          1                     0             0   Amazon  \n",
       "3            0          1                     0             0   Amazon  \n",
       "4            0          1                     0             0   Amazon  \n",
       "5            0          1                     0             0   Amazon  \n",
       "7            0          1                     0             0   Amazon  "
      ]
     },
     "execution_count": 3,
     "metadata": {},
     "output_type": "execute_result"
    }
   ],
   "source": [
    "# Melt the platform_catalog dataframe to long format\n",
    "long_platform_catalog = pd.melt(platform_catalog, id_vars=['imdbId', 'title', 'type', \n",
    "                                                      'releaseYear', 'rating', 'numVotes', 'highlyRated',\n",
    "                                                      'exclusive', 'exclusiveHighlyRated', 'popularTitle'], \n",
    "                  value_vars=['Amazon', 'Hulu', 'Netflix', 'HBO', 'Apple'],\n",
    "                  var_name='Platform', value_name='Available')\n",
    "\n",
    "# drop columns with available = 0\n",
    "long_platform_catalog = long_platform_catalog[long_platform_catalog['Available'] == 1]\n",
    "\n",
    "# Drop available column\n",
    "long_platform_catalog.drop(columns=['Available'], inplace=True)\n",
    "\n",
    "\n",
    "# Display the long format dataframe\n",
    "long_platform_catalog.head()\n"
   ]
  },
  {
   "cell_type": "markdown",
   "metadata": {},
   "source": [
    "# Analyze the availability of high-rated content (IMDb ≥ 7.5) across platforms using an ANOVA test\n",
    "\n",
    "\n",
    "**Plan:** \n",
    "We will test if there are significant differences in high-rated content percentage between platforms.\n",
    "\n",
    "1. Null Hypothesis (H₀): There are no significant differences in high-rated content percentage across platforms.\n",
    "2. Alternative Hypothesis (H₁): There is a significant difference in this variables across platforms.\n",
    "\n",
    "**Variable Analyzed:**\n",
    "\n",
    "* High-Rated Content (%)\n",
    "\n",
    "---\n",
    "\n",
    "**Results**\n",
    "* F-statistic = 5.058636723614688, p-value = 0.0004540992208318616\n",
    "\n",
    "* Percent per platform:\n",
    "    * HBO: 32.16%\n",
    "    * Hulu: 26.54%\n",
    "    * Netflix: 19.59%\n",
    "    * Apple: 16.92%\n",
    "    * Amazon: 11.24%    \n",
    "\n",
    "\n",
    "---\n",
    "\n",
    "**Summary**\n",
    "1. F-statistic:\n",
    "\n",
    "* The F-statistic (5.059) indicates the ratio of variance between group means (platforms) to the variance within groups.\n",
    "\n",
    "* A higher F-statistic suggests greater variability between groups compared to within groups.\n",
    "\n",
    "2. p-value:\n",
    "\n",
    "* The p-value (0.00045) is significantly lower than a common significance threshold (e.g., α = 0.05).\n",
    "\n",
    "* **This means we can reject the null hypothesis (H₀)**\n",
    " \n",
    "\n",
    "3. All Comparisons are Significant:\n",
    "\n",
    "* All pairwise comparisons have a p-adj ≤ 0.05, meaning the differences between the mean high-rated content percentages are statistically significant at the 5% significance level.\n",
    "\n",
    "* The confidence intervals for all pairs exclude 0, reinforcing the significance.\n",
    "\n",
    "4. Largest Difference:\n",
    "\n",
    "* The most significant difference is between Amazon and HBO with a mean difference of 20.93%.\n",
    "\n",
    "5. Smallest Difference:\n",
    "\n",
    "* The smallest significant difference is between Apple and Netflix with a mean difference of 2.67%."
   ]
  },
  {
   "cell_type": "code",
   "execution_count": 4,
   "metadata": {},
   "outputs": [
    {
     "name": "stdout",
     "output_type": "stream",
     "text": [
      "ANOVA result for High-Rated Content: F-statistic = 5.058636723614688, p-value = 0.0004540992208318616\n"
     ]
    }
   ],
   "source": [
    "# Define a threshold for high-rated content (e.g., rating >= 7.5)\n",
    "high_rated_df = long_platform_catalog[long_platform_catalog['rating'] >= 7.5]\n",
    "\n",
    "# Group data by platform and calculate high-rated content percentage for each platform\n",
    "platform_high_rated = high_rated_df.groupby('Platform').size() / long_platform_catalog.groupby('Platform').size() * 100\n",
    "\n",
    "# Run ANOVA to compare the high-rated content percentages across platforms\n",
    "anova_result = stats.f_oneway(*[high_rated_df[high_rated_df['Platform'] == platform]['rating'] \n",
    "                               for platform in long_platform_catalog['Platform'].unique()])\n",
    "print(f'ANOVA result for High-Rated Content: F-statistic = {anova_result.statistic}, p-value = {anova_result.pvalue}')\n"
   ]
  },
  {
   "cell_type": "code",
   "execution_count": 5,
   "metadata": {},
   "outputs": [
    {
     "name": "stdout",
     "output_type": "stream",
     "text": [
      "Platform\n",
      "Amazon     11.235706\n",
      "Apple      16.919379\n",
      "HBO        32.162373\n",
      "Hulu       26.537458\n",
      "Netflix    19.587780\n",
      "Name: highlyRated, dtype: float64\n"
     ]
    }
   ],
   "source": [
    "#Calculate the percentage of high-rated content for each platform\n",
    "high_rated_per_platform = long_platform_catalog.groupby('Platform')['highlyRated'].mean() * 100\n",
    "\n",
    "# Display the results\n",
    "print(high_rated_per_platform)\n"
   ]
  },
  {
   "cell_type": "markdown",
   "metadata": {},
   "source": [
    "Conduct a Tukey HSD test "
   ]
  },
  {
   "cell_type": "code",
   "execution_count": 6,
   "metadata": {},
   "outputs": [
    {
     "name": "stdout",
     "output_type": "stream",
     "text": [
      "Multiple Comparison of Means - Tukey HSD, FWER=0.05 \n",
      "====================================================\n",
      "group1  group2 meandiff p-adj  lower   upper  reject\n",
      "----------------------------------------------------\n",
      "Amazon   Apple   0.0568   0.0  0.0453  0.0684   True\n",
      "Amazon     HBO   0.2093   0.0  0.1887  0.2298   True\n",
      "Amazon    Hulu    0.153   0.0  0.1329  0.1731   True\n",
      "Amazon Netflix   0.0835   0.0  0.0699  0.0971   True\n",
      " Apple     HBO   0.1524   0.0  0.1308  0.1741   True\n",
      " Apple    Hulu   0.0962   0.0  0.0749  0.1174   True\n",
      " Apple Netflix   0.0267   0.0  0.0115  0.0419   True\n",
      "   HBO    Hulu  -0.0562   0.0 -0.0835  -0.029   True\n",
      "   HBO Netflix  -0.1257   0.0 -0.1486 -0.1029   True\n",
      "  Hulu Netflix  -0.0695   0.0 -0.0919 -0.0471   True\n",
      "----------------------------------------------------\n"
     ]
    }
   ],
   "source": [
    "# Perform Tukey's HSD Test\n",
    "tukey_result = pairwise_tukeyhsd(endog=long_platform_catalog['highlyRated'],\n",
    "                                 groups=long_platform_catalog['Platform'],\n",
    "                                 alpha=0.05)\n",
    "\n",
    "# Print Tukey's HSD Test Results\n",
    "print(tukey_result.summary())\n"
   ]
  },
  {
   "cell_type": "markdown",
   "metadata": {},
   "source": [
    "Create a bar chart to visually represent the distribution of high-rated content across streaming platforms."
   ]
  },
  {
   "cell_type": "code",
   "execution_count": 7,
   "metadata": {},
   "outputs": [
    {
     "data": {
      "image/png": "[encoded data removed]",
      "text/plain": [
       "<Figure size 1000x600 with 1 Axes>"
      ]
     },
     "metadata": {},
     "output_type": "display_data"
    }
   ],
   "source": [
    "# Platforms and their high-rated content percentages\n",
    "platforms = ['Amazon', 'Apple', 'HBO', 'Hulu', 'Netflix']\n",
    "high_rated_content_percentages = [high_rated_per_platform[platform] for platform in platforms]\n",
    "\n",
    "# Create a DataFrame to combine the platforms and percentages\n",
    "df = pd.DataFrame({'Platform': platforms, 'High-Rated Content (%)': high_rated_content_percentages})\n",
    "\n",
    "# Sort the DataFrame by the 'High-Rated Content (%)' column in descending order\n",
    "df = df.sort_values(by='High-Rated Content (%)', ascending=False)\n",
    "\n",
    "# Create the bar chart\n",
    "plt.figure(figsize=(10, 6))\n",
    "sns.barplot(x='Platform', y='High-Rated Content (%)', data=df, palette='Set2', hue='Platform')\n",
    "\n",
    "# Adding labels and title\n",
    "plt.xlabel('Streaming Platforms')\n",
    "plt.ylabel('High-Rated Content Percentage')\n",
    "plt.title('High-Rated Content Percentage by Platform')\n",
    "\n",
    "# Save the plot\n",
    "plt.savefig(\"C:\\\\Users\\\\kimbe\\\\Documents\\\\Capstone\\\\Streaming_Analysis\\\\outputs\\\\high_rated_content_percentage_by_platform.png\")\n",
    "\n",
    "# Display the plot\n",
    "plt.show()\n"
   ]
  },
  {
   "cell_type": "markdown",
   "metadata": {},
   "source": [
    "# Assess the availability of exclusive high-rated content across streaming platforms using an ANOVA test\n",
    "\n",
    "**Plan:**\n",
    "We will test if there are significant differences in the percentage of exclusive high-rated content across streaming platforms.\n",
    "\n",
    "1. Null Hypothesis (H₀): There are no significant differences in the percentage of exclusive high-rated content across platforms.\n",
    "2. Alternative Hypothesis (H₁): There is a significant difference in this variable across platforms.\n",
    "\n",
    "**Variable Analyzed:**\n",
    "\n",
    "* Exclusive High-Rated Content (%)\n",
    "\n",
    "---\n",
    "\n",
    "**Results:**\n",
    "* ANOVA result for Exclusive High-Rated Content:\n",
    "\n",
    "    * F-statistic = 242.778\n",
    "    * p-value = 1.06e-206\n",
    "* Percent per platform:\n",
    "    * HBO: 29.31%\n",
    "    * Hulu: 19.16%\n",
    "    * Netflix: 17.64%\n",
    "    * Apple: 14.19%\n",
    "    * Amazon: 9.96%\n",
    "\n",
    "---\n",
    "\n",
    "**Summary**\n",
    "1. F-statistic:\n",
    "\n",
    "    * The F-statistic (242.778) indicates the ratio of variance between group means (platforms) to the variance within groups.\n",
    "    * A higher F-statistic suggests greater variability between groups compared to within groups.\n",
    "2. p-value:\n",
    "\n",
    "    * The p-value (1.06e-206) is significantly lower than a common significance threshold (e.g., α = 0.05).\n",
    "    * **This means we can reject the null hypothesis (H₀).**\n",
    "\n",
    "3. All Comparisons Are Significant (Except Hulu vs. Netflix):\n",
    "\n",
    "    * All pairwise comparisons, except Hulu vs. Netflix, have a p-adj ≤ 0.05, meaning the differences between the mean exclusive high-rated content percentages are statistically significant at the 5% level.\n",
    "    * The confidence intervals for these pairs exclude 0, reinforcing the significance.\n",
    "4. Largest Difference:\n",
    "\n",
    "    * The most significant difference is between Amazon and HBO with a mean difference of 19.35%.\n",
    "5. Smallest Significant Difference:\n",
    "\n",
    "* The smallest significant difference is between Apple and Netflix with a mean difference of 3.45%.\n",
    "6. Non-Significant Comparison:\n",
    "\n",
    "    * The only non-significant pair is Hulu vs. Netflix (p-adj = 0.2909), suggesting their percentages of exclusive high-rated content are similar."
   ]
  },
  {
   "cell_type": "code",
   "execution_count": 8,
   "metadata": {},
   "outputs": [
    {
     "name": "stdout",
     "output_type": "stream",
     "text": [
      "ANOVA result for Exclusive High-Rated Content: F-statistic = 242.77782341711074, p-value = 1.0583896329349885e-206\n"
     ]
    }
   ],
   "source": [
    "# Prepare the data for exclusivity across platforms\n",
    "platforms = ['Amazon', 'Apple', 'HBO', 'Hulu', 'Netflix']\n",
    "exclusivity_data = [long_platform_catalog[long_platform_catalog['Platform'] == platform]['exclusiveHighlyRated'] for platform in platforms]\n",
    "\n",
    "# Run the ANOVA test\n",
    "anova_exclusivity = stats.f_oneway(*exclusivity_data)\n",
    "\n",
    "# Print the results\n",
    "print(f'ANOVA result for Exclusive High-Rated Content: F-statistic = {anova_exclusivity.statistic}, p-value = {anova_exclusivity.pvalue}')\n",
    "\n"
   ]
  },
  {
   "cell_type": "code",
   "execution_count": 9,
   "metadata": {},
   "outputs": [
    {
     "name": "stdout",
     "output_type": "stream",
     "text": [
      "Platform\n",
      "Amazon      9.963656\n",
      "Apple      14.191938\n",
      "HBO        29.313037\n",
      "Hulu       19.157659\n",
      "Netflix    17.643619\n",
      "Name: exclusiveHighlyRated, dtype: float64\n"
     ]
    }
   ],
   "source": [
    "#Calculate the percentage of high-rated content for each platform\n",
    "exc_high_rated_per_platform = long_platform_catalog.groupby('Platform')['exclusiveHighlyRated'].mean() * 100\n",
    "\n",
    "# Display the results\n",
    "print(exc_high_rated_per_platform)\n"
   ]
  },
  {
   "cell_type": "code",
   "execution_count": 10,
   "metadata": {},
   "outputs": [
    {
     "name": "stdout",
     "output_type": "stream",
     "text": [
      " Multiple Comparison of Means - Tukey HSD, FWER=0.05 \n",
      "=====================================================\n",
      "group1  group2 meandiff p-adj   lower   upper  reject\n",
      "-----------------------------------------------------\n",
      "Amazon   Apple   0.0423    0.0  0.0314  0.0532   True\n",
      "Amazon     HBO   0.1935    0.0  0.1741  0.2129   True\n",
      "Amazon    Hulu   0.0919    0.0   0.073  0.1109   True\n",
      "Amazon Netflix   0.0768    0.0   0.064  0.0896   True\n",
      " Apple     HBO   0.1512    0.0  0.1308  0.1716   True\n",
      " Apple    Hulu   0.0497    0.0  0.0296  0.0697   True\n",
      " Apple Netflix   0.0345    0.0  0.0202  0.0489   True\n",
      "   HBO    Hulu  -0.1016    0.0 -0.1272 -0.0759   True\n",
      "   HBO Netflix  -0.1167    0.0 -0.1382 -0.0952   True\n",
      "  Hulu Netflix  -0.0151 0.2909 -0.0363   0.006  False\n",
      "-----------------------------------------------------\n"
     ]
    }
   ],
   "source": [
    "# Perform Tukey's HSD test\n",
    "tukey_result = pairwise_tukeyhsd(endog=long_platform_catalog['exclusiveHighlyRated'],\n",
    "                                 groups=long_platform_catalog['Platform'],\n",
    "                                 alpha=0.05)\n",
    "\n",
    "# Print Tukey's HSD Test Results\n",
    "print(tukey_result.summary())\n"
   ]
  },
  {
   "cell_type": "markdown",
   "metadata": {},
   "source": [
    "Design a barchart to show the percentage of exclusive high-rated content on each platform."
   ]
  },
  {
   "cell_type": "code",
   "execution_count": 19,
   "metadata": {},
   "outputs": [
    {
     "name": "stdout",
     "output_type": "stream",
     "text": [
      "Platform\n",
      "Amazon     10.680350\n",
      "Apple      16.587422\n",
      "HBO        31.714527\n",
      "Hulu       24.987846\n",
      "Netflix    18.739326\n",
      "dtype: float64\n"
     ]
    },
    {
     "name": "stderr",
     "output_type": "stream",
     "text": [
      "C:\\Users\\kimbe\\AppData\\Local\\Temp\\ipykernel_15560\\1366606279.py:2: DeprecationWarning: DataFrameGroupBy.apply operated on the grouping columns. This behavior is deprecated, and in a future version of pandas the grouping columns will be excluded from the operation. Either pass `include_groups=False` to exclude the groupings or explicitly select the grouping columns after groupby to silence this warning.\n",
      "  exclusive_high_rated_percentages = long_platform_catalog.groupby('Platform').apply(\n"
     ]
    }
   ],
   "source": [
    "# Calculate the percentage of exclusive titles that are high-rated for each platform\n",
    "exclusive_high_rated_percentages = long_platform_catalog.groupby('Platform').apply(\n",
    "    lambda x: (x['exclusiveHighlyRated'].sum() / x['exclusive'].sum()) * 100\n",
    ")\n",
    "\n",
    "# Display the results\n",
    "print(exclusive_high_rated_percentages)\n"
   ]
  },
  {
   "cell_type": "code",
   "execution_count": 20,
   "metadata": {},
   "outputs": [
    {
     "data": {
      "image/png": "[encoded data removed]",
      "text/plain": [
       "<Figure size 1000x600 with 1 Axes>"
      ]
     },
     "metadata": {},
     "output_type": "display_data"
    }
   ],
   "source": [
    "data = pd.DataFrame({\n",
    "    'Platform': platforms,\n",
    "    'Exclusive High-Rated Content (%)': exclusive_high_rated_percentages\n",
    "})\n",
    "\n",
    "# Sort the data in descending order based on the percentage of exclusive high-rated content\n",
    "data = data.sort_values(by='Exclusive High-Rated Content (%)', ascending=False)\n",
    "\n",
    "# Create the bar chart\n",
    "plt.figure(figsize=(10, 6))\n",
    "sns.barplot(x='Platform', y='Exclusive High-Rated Content (%)', data=data, palette='Set2', hue='Platform')\n",
    "\n",
    "# Adding labels and title\n",
    "plt.xlabel('Streaming Platforms')\n",
    "plt.ylabel('Exclusive High-Rated Content Percentage')\n",
    "plt.title('Exclusive High-Rated Content Percentage by Platform (Sorted)')\n",
    "\n",
    "# Save the plot\n",
    "plt.savefig(\"C:\\\\Users\\\\kimbe\\\\Documents\\\\Capstone\\\\Streaming_Analysis\\\\outputs\\\\exclusive_high_rated_content_percentage_by_platform.png\")\n",
    "\n",
    "# Display the plot\n",
    "plt.show()\n"
   ]
  },
  {
   "cell_type": "markdown",
   "metadata": {},
   "source": [
    "# Analyze the Availability of Popular Content Across Platforms using a Kruskal-Wallis H-test\n",
    "\n",
    "**Plan:**\n",
    "We will test if there are significant differences in the percentage of popular titles from each platform's catalog, compared to the IMDb list of popular titles, across different streaming platforms.\n",
    "\n",
    "\n",
    "1. Null Hypothesis (H₀): There are no significant differences in the percentage of popular content (platform's popular titles relative to IMDb's popular content list) available across the platforms.\n",
    "2. Alternative Hypothesis (H₁): There is a significant difference in the percentage of popular content (platform's popular titles relative to IMDb's popular content list) available across the platforms.\n",
    "\n",
    "\n",
    "**Dependent Variable:** The percentage of popular content available on each platform, relative to the IMDb list of popular titles.\n",
    "\n",
    "The percentage for each platform is calculated as:\n",
    "    \n",
    "**Percentage of Popular Content = (Number of Popular Titles on Platform / Total Titles in IMDb Popular List) * 100**\n",
    "\n",
    "\n",
    "These percentages represent the proportion of titles categorized as \"popular\" in each platform's catalog, compared to the total number of popular titles in the IMDb list.\n",
    "\n",
    "## Statistical Test:\n",
    "To evaluate whether the observed differences in popularity percentages are statistically significant, we will use a **Kruskal-Wallis H-test** since we have categorical groups (platforms) with a single observed value (percentage) for each group.\n",
    "\n",
    "---\n",
    "\n",
    "**Results**\n",
    "\n",
    "| Platform | Titles Found | Percentage (%) |\n",
    "|----------|--------------|----------------|\n",
    "| HBO      | 94           | 17.97%         |\n",
    "| Netflix  | 87           | 16.63%         |\n",
    "| Apple    | 73           | 13.96%         |\n",
    "| Hulu     | 73           | 13.96%         |\n",
    "| Amazon   | 71           | 13.58%         |\n",
    "\n",
    "* H-statistic: 4.00\n",
    "* P-value: 0.4060\n",
    "\n",
    "---\n",
    "\n",
    "**Summary**\n",
    "\n",
    "* The H-statistic (4.00) indicates the degree of difference between the groups, but we focus more on the p-value for making a decision.\n",
    "* The p-value is 0.4060, which is greater than 0.05. **This means we fail to reject the null hypothesis.**\n",
    "\n",
    "\n",
    "---\n",
    "\n",
    "# Platform Overlap (All Popular Titles):\n",
    "\n",
    "\n",
    "|             | Amazon | Hulu  | Netflix | Apple  | HBO    |\n",
    "|-------------|--------|-------|---------|--------|--------|\n",
    "| **Amazon**  |        | 7.46  | 2.60    | 12.50  | 4.43   |\n",
    "| **Hulu**    | 7.46   |       | 8.84    | 7.35   | 1.83   |\n",
    "| **Netflix** | **2.60**  | 8.84  |         | 3.90   | **1.69**   |\n",
    "| **Apple**   | 12.50  | 7.35  | 3.90    |        | 1.83   |\n",
    "| **HBO**     | 4.43   | **1.83** | **1.69**    | **1.83**   |        |\n",
    "\n",
    "\n",
    "\n",
    "The following combinations will give you the most unique popular content:\n",
    "\n",
    "* **HBO and Netflix**:\n",
    "\n",
    "    * Overlap Percentage: 1.69%\n",
    "    * This combination also provides very few shared titles, offering a good amount of unique content.\n",
    "\n",
    "* **HBO and Hulu**:\n",
    "\n",
    "    * Overlap Percentage: 1.83%\n",
    "    * This combination has the lowest overlap, providing a very high number of unique titles.\n",
    "\n",
    "* **Apple and HBO**:\n",
    "\n",
    "    * Overlap Percentage: 1.83%\n",
    "    * Like the HBO + Hulu combination, this one also provides a minimal overlap, maximizing the number of unique titles.\n",
    "\n"
   ]
  },
  {
   "cell_type": "code",
   "execution_count": 13,
   "metadata": {},
   "outputs": [
    {
     "name": "stdout",
     "output_type": "stream",
     "text": [
      "Amazon: 71 titles found, 13.58%\n",
      "Apple: 73 titles found, 13.96%\n",
      "HBO: 94 titles found, 17.97%\n",
      "Hulu: 73 titles found, 13.96%\n",
      "Netflix: 87 titles found, 16.63%\n"
     ]
    }
   ],
   "source": [
    "platform_percentages = {}\n",
    "\n",
    "# Loop over each platform and calculate the percentage\n",
    "for platform_name in platforms:\n",
    "    # Filter the long_platform_catalog for the current platform\n",
    "    platform_df = long_platform_catalog[long_platform_catalog['Platform'] == platform_name]\n",
    "    \n",
    "    # Merge 'popular_titles' with the platform's catalog on 'imdbId'\n",
    "    merged_df = popular_titles.merge(platform_df[['imdbId', 'popularTitle']], left_on='id', right_on='imdbId', how='left')\n",
    "    \n",
    "    # Count how many titles in 'popular_titles' are present in the platform catalog\n",
    "    found_count = merged_df[merged_df['popularTitle'] == 1].shape[0]\n",
    "    \n",
    "    # Calculate the percentage of found titles\n",
    "    total_count = popular_titles.shape[0]\n",
    "    percentage_found = (found_count / total_count) * 100\n",
    "    \n",
    "    # Store the percentage for each platform\n",
    "    platform_percentages[platform_name] = percentage_found\n",
    "\n",
    "    # Print the count and percentage for each platform\n",
    "    print(f\"{platform_name}: {found_count} titles found, {percentage_found:.2f}%\")\n"
   ]
  },
  {
   "cell_type": "markdown",
   "metadata": {},
   "source": [
    "Create a binary matrix of popular titles"
   ]
  },
  {
   "cell_type": "code",
   "execution_count": 14,
   "metadata": {},
   "outputs": [
    {
     "data": {
      "image/png": "[encoded data removed]",
      "text/plain": [
       "<Figure size 800x600 with 2 Axes>"
      ]
     },
     "metadata": {},
     "output_type": "display_data"
    }
   ],
   "source": [
    "# Define platform columns and initialize an empty binary matrix\n",
    "platform_columns = ['Amazon', 'Hulu', 'Netflix', 'Apple', 'HBO']\n",
    "binary_overlap_matrix = pd.DataFrame(0.0, index=platform_columns, columns=platform_columns)  # Ensure it's a float matrix\n",
    "\n",
    "# Loop through each pair of platforms to calculate overlap for popular titles\n",
    "for platform_1 in platform_columns:\n",
    "    for platform_2 in platform_columns:\n",
    "        if platform_1 != platform_2:\n",
    "            # Get the sets of popular titles for each platform\n",
    "            set_1 = set(long_platform_catalog[\n",
    "                (long_platform_catalog['Platform'] == platform_1) & \n",
    "                (long_platform_catalog['popularTitle'] == 1)\n",
    "            ]['imdbId'])\n",
    "            \n",
    "            set_2 = set(long_platform_catalog[\n",
    "                (long_platform_catalog['Platform'] == platform_2) & \n",
    "                (long_platform_catalog['popularTitle'] == 1)\n",
    "            ]['imdbId'])\n",
    "            \n",
    "            # Calculate the overlap: number of common non-exclusive popular titles\n",
    "            common_titles = set_1.intersection(set_2)\n",
    "            total_titles = set_1.union(set_2)\n",
    "            \n",
    "            # Calculate the overlap percentage and update the binary overlap matrix\n",
    "            if total_titles:  # Avoid division by zero if there are no titles\n",
    "                overlap_percentage = len(common_titles) / len(total_titles) * 100\n",
    "                # Set overlap for both directions (symmetry)\n",
    "                binary_overlap_matrix.loc[platform_1, platform_2] = overlap_percentage\n",
    "                binary_overlap_matrix.loc[platform_2, platform_1] = overlap_percentage  # Ensure symmetry\n",
    "\n",
    "# Plot the heatmap of platform overlap for non-exclusive popular titles\n",
    "plt.figure(figsize=(8, 6))\n",
    "sns.heatmap(binary_overlap_matrix, annot=True, cmap=\"YlGnBu\", cbar_kws={'label': 'Overlap Percentage'})\n",
    "plt.title(\"Platform Overlap Heatmap for Popular Titles\")\n",
    "\n",
    "# Save the heatmap\n",
    "plt.savefig(\"C:\\\\Users\\\\kimbe\\\\Documents\\\\Capstone\\\\Streaming_Analysis\\\\outputs\\\\platform_overlap_heatmap.png\")\n",
    "\n",
    "# Display the heatmap\n",
    "plt.show()\n"
   ]
  },
  {
   "cell_type": "code",
   "execution_count": 15,
   "metadata": {},
   "outputs": [
    {
     "data": {
      "text/html": [
       "<div>\n",
       "<style scoped>\n",
       "    .dataframe tbody tr th:only-of-type {\n",
       "        vertical-align: middle;\n",
       "    }\n",
       "\n",
       "    .dataframe tbody tr th {\n",
       "        vertical-align: top;\n",
       "    }\n",
       "\n",
       "    .dataframe thead th {\n",
       "        text-align: right;\n",
       "    }\n",
       "</style>\n",
       "<table border=\"1\" class=\"dataframe\">\n",
       "  <thead>\n",
       "    <tr style=\"text-align: right;\">\n",
       "      <th></th>\n",
       "      <th>Amazon</th>\n",
       "      <th>Hulu</th>\n",
       "      <th>Netflix</th>\n",
       "      <th>Apple</th>\n",
       "      <th>HBO</th>\n",
       "    </tr>\n",
       "  </thead>\n",
       "  <tbody>\n",
       "    <tr>\n",
       "      <th>Amazon</th>\n",
       "      <td>0.000000</td>\n",
       "      <td>7.462687</td>\n",
       "      <td>2.597403</td>\n",
       "      <td>12.500000</td>\n",
       "      <td>4.430380</td>\n",
       "    </tr>\n",
       "    <tr>\n",
       "      <th>Hulu</th>\n",
       "      <td>7.462687</td>\n",
       "      <td>0.000000</td>\n",
       "      <td>8.843537</td>\n",
       "      <td>7.352941</td>\n",
       "      <td>1.829268</td>\n",
       "    </tr>\n",
       "    <tr>\n",
       "      <th>Netflix</th>\n",
       "      <td>2.597403</td>\n",
       "      <td>8.843537</td>\n",
       "      <td>0.000000</td>\n",
       "      <td>3.896104</td>\n",
       "      <td>1.685393</td>\n",
       "    </tr>\n",
       "    <tr>\n",
       "      <th>Apple</th>\n",
       "      <td>12.500000</td>\n",
       "      <td>7.352941</td>\n",
       "      <td>3.896104</td>\n",
       "      <td>0.000000</td>\n",
       "      <td>1.829268</td>\n",
       "    </tr>\n",
       "    <tr>\n",
       "      <th>HBO</th>\n",
       "      <td>4.430380</td>\n",
       "      <td>1.829268</td>\n",
       "      <td>1.685393</td>\n",
       "      <td>1.829268</td>\n",
       "      <td>0.000000</td>\n",
       "    </tr>\n",
       "  </tbody>\n",
       "</table>\n",
       "</div>"
      ],
      "text/plain": [
       "            Amazon      Hulu   Netflix      Apple       HBO\n",
       "Amazon    0.000000  7.462687  2.597403  12.500000  4.430380\n",
       "Hulu      7.462687  0.000000  8.843537   7.352941  1.829268\n",
       "Netflix   2.597403  8.843537  0.000000   3.896104  1.685393\n",
       "Apple    12.500000  7.352941  3.896104   0.000000  1.829268\n",
       "HBO       4.430380  1.829268  1.685393   1.829268  0.000000"
      ]
     },
     "execution_count": 15,
     "metadata": {},
     "output_type": "execute_result"
    }
   ],
   "source": [
    "binary_overlap_matrix\n"
   ]
  },
  {
   "cell_type": "code",
   "execution_count": 16,
   "metadata": {},
   "outputs": [
    {
     "data": {
      "image/png": "[encoded data removed]",
      "text/plain": [
       "<Figure size 1000x600 with 1 Axes>"
      ]
     },
     "metadata": {},
     "output_type": "display_data"
    }
   ],
   "source": [
    "# Sort the platform_percentages dictionary by values in descending order\n",
    "sorted_platform_percentages = dict(sorted(platform_percentages.items(), key=lambda item: item[1], reverse=True))\n",
    "\n",
    "# Create a pie chart\n",
    "plt.figure(figsize=(10, 6))\n",
    "plt.pie(list(sorted_platform_percentages.values()), labels=list(sorted_platform_percentages.keys()), autopct='%1.1f%%', colors=sns.color_palette('Set2', len(sorted_platform_percentages)))\n",
    "\n",
    "# Add title\n",
    "plt.title('Percentage of Popular Titles Available on Each Platform')\n",
    "\n",
    "# Save the plot\n",
    "plt.savefig(\"C:\\\\Users\\\\kimbe\\\\Documents\\\\Capstone\\\\Streaming_Analysis\\\\outputs\\\\percentage_of_popular_titles_by_platform.png\")\n",
    "\n",
    "# Display the plot\n",
    "plt.show()\n"
   ]
  },
  {
   "cell_type": "code",
   "execution_count": 17,
   "metadata": {},
   "outputs": [
    {
     "name": "stdout",
     "output_type": "stream",
     "text": [
      "H-statistic: 4.00\n",
      "P-value: 0.4060\n",
      "Fail to reject the null hypothesis: There is no significant difference in the percentages of popular content across platforms.\n"
     ]
    }
   ],
   "source": [
    "# Convert the dictionary values into a list (each platform as a separate group)\n",
    "data_groups = list(platform_percentages.values())\n",
    "\n",
    "# Perform Kruskal-Wallis H-test\n",
    "H_statistic, p_value = stats.kruskal(*data_groups)\n",
    "\n",
    "# Print the results\n",
    "print(f\"H-statistic: {H_statistic:.2f}\")\n",
    "print(f\"P-value: {p_value:.4f}\")\n",
    "\n",
    "# Interpretation\n",
    "if p_value < 0.05:\n",
    "    print(\"Reject the null hypothesis: There is a significant difference in the percentages of popular content across platforms.\")\n",
    "else:\n",
    "    print(\"Fail to reject the null hypothesis: There is no significant difference in the percentages of popular content across platforms.\")\n"
   ]
  },
  {
   "cell_type": "markdown",
   "metadata": {},
   "source": [
    "# Analyze high-rated content for genres\n",
    "\n",
    "We evaluated multiple streaming platforms (Amazon, Netflix, HBO, Hulu, and Apple) based on the percentage of high-rated content available in each genre. This approach helps identify which platforms offer the highest quality content per genre, highlighting platforms that curate more highly-rated titles in their catalogs.\n",
    "\n",
    "**Findings**:\n",
    "* **HBO** consistently leads in high-rated content percentages across the majority of genres, especially in *Drama*, *Comedy*, *Action*, *History*, *Sport*, and *Music*.\n",
    "* **Apple** performs best in *Documentary*, *News*, and *Musical*.\n",
    "* **Amazon** generally has the lowest percentages across most genres, except for *Reality-TV*, where it leads.\n",
    "* **Hulu** stands out in *Talk-Show* and *War*, taking the top spot in those genres.\n",
    "\n",
    "\n",
    "**Conclusion**:\n",
    "* Based on the percentage of high-rated content, HBO is the top platform overall. However, this analysis is focused solely on quality. If broader content variety or catalog size is more important, other platforms may be worth considering."
   ]
  },
  {
   "cell_type": "markdown",
   "metadata": {},
   "source": [
    "Discover the platform that excels in providing high-rated content across various genres. High-rated content is defined as movies and TV shows with an IMDb rating of 7.5 or higher."
   ]
  },
  {
   "cell_type": "code",
   "execution_count": 18,
   "metadata": {},
   "outputs": [
    {
     "name": "stdout",
     "output_type": "stream",
     "text": [
      "                    Amazon    Netflix        HBO       Hulu      Apple\n",
      "Action            5.621851  19.227540  28.762542  28.351648  11.171032\n",
      "Adventure         8.490133  22.382671  31.097561  33.608815  15.438108\n",
      "Animation        17.733990  26.758794  38.265306  38.219895  21.594684\n",
      "Biography        23.032407  27.793696  37.073171  32.142857  29.342723\n",
      "Comedy            9.058989  16.983471  28.904847  26.583851  12.513034\n",
      "Crime             8.946034  18.363636  31.024931  29.722922  19.463549\n",
      "Documentary      35.964259  28.169014  34.392265  35.024155  45.273264\n",
      "Drama             9.461745  21.846554  39.482565  29.529530  15.678134\n",
      "Family           11.002786  13.202247  38.053097  14.666667  11.311673\n",
      "Fantasy           8.149569  21.568627  25.190840  22.068966   9.158416\n",
      "Film-Noir         6.382979        NaN  60.000000        NaN   8.333333\n",
      "Game-Show        19.672131  20.000000  20.588235  12.068966  45.238095\n",
      "History          28.088427  31.914894  44.354839  36.190476  43.923241\n",
      "Horror            1.474820   7.975460  10.077519   7.476636   3.156146\n",
      "Music            23.987034  25.257732  43.243243  26.744186  22.966507\n",
      "Musical          12.440191  19.354839  47.058824   9.090909  20.231214\n",
      "Mystery           6.898734  15.811088  28.187919  24.017467  12.959381\n",
      "News             43.750000  33.333333  37.500000  25.000000  50.000000\n",
      "Reality-TV       31.935484  16.491228  29.299363  24.045802  30.991736\n",
      "Romance           7.139959  17.954545  33.018868  21.755725   7.124285\n",
      "Science Fiction   3.180543   8.333333  21.951220  13.829787  11.349693\n",
      "Short            25.423729  10.169492  26.760563  14.285714  25.000000\n",
      "Sport            22.619048  28.000000  42.187500  31.578947  18.238994\n",
      "TV Movie         33.333333        NaN        NaN        NaN  14.285714\n",
      "Talk-Show        50.000000  24.137931   9.090909  54.545455  26.923077\n",
      "Thriller          3.412235   9.775641  25.000000  10.256410   6.544118\n",
      "War              14.573991  33.962264  50.980392  53.333333  33.333333\n",
      "Western           2.887538  20.000000  17.647059  22.222222   6.177606\n"
     ]
    }
   ],
   "source": [
    "# Define the genre columns\n",
    "genre_columns = ['Action', 'Adventure', 'Animation', 'Biography', 'Comedy', 'Crime', \n",
    "                 'Documentary', 'Drama', 'Family', 'Fantasy', 'Film-Noir', 'Game-Show', \n",
    "                 'History', 'Horror', 'Music', 'Musical', 'Mystery', 'News', \n",
    "                 'Reality-TV', 'Romance', 'Science Fiction', 'Short', 'Sport', \n",
    "                 'TV Movie', 'Talk-Show', 'Thriller', 'War', 'Western']\n",
    "\n",
    "# Define function to calculate high-rated content by genre\n",
    "def high_rated_by_genre(df, genre_columns):\n",
    "    \"\"\"\n",
    "    Calculate the percentage of high-rated content (IMDb >= 7.5) by genre.\n",
    "\n",
    "    Parameters:\n",
    "    df (DataFrame): The DataFrame containing the content data.\n",
    "    genre_columns (list): List of genre columns.\n",
    "\n",
    "    Returns:\n",
    "    Series: A Series containing the percentage of high-rated content per genre.\n",
    "    \"\"\"\n",
    "    # Filter for high-rated content (IMDb >= 7.5)\n",
    "    high_rated_df = df[df['rating'] >= 7.5]\n",
    "    \n",
    "    # Count the number of high-rated content per genre (one-hot encoded)\n",
    "    genre_counts = high_rated_df[genre_columns].sum()\n",
    "    \n",
    "    # Calculate total number of content per genre across all rows\n",
    "    total_counts = df[genre_columns].sum()\n",
    "    \n",
    "    # Calculate percentage of high-rated content per genre\n",
    "    percentage = (genre_counts / total_counts) * 100\n",
    "    return percentage\n",
    "\n",
    "# Assuming platforms is a list of platform names (e.g., ['Amazon', 'Netflix', 'HBO', 'Hulu', 'Apple'])\n",
    "platforms = ['Amazon', 'Netflix', 'HBO', 'Hulu', 'Apple']  # Modify as per your actual platforms\n",
    "\n",
    "# Assuming platform_info is your DataFrame\n",
    "high_rated_genre_percentage = {}\n",
    "\n",
    "# Loop through platforms and calculate high-rated content percentage by genre\n",
    "for platform in platforms:\n",
    "    # Filter the DataFrame for each platform (assuming platform columns are binary: 0 or 1)\n",
    "    platform_df = platform_catalog[platform_catalog[platform] == 1]  # Filter rows where the platform column is 1\n",
    "    high_rated_genre_percentage[platform] = high_rated_by_genre(platform_df, genre_columns)\n",
    "\n",
    "# Convert results to DataFrame for easier visualization\n",
    "high_rated_genre_percentage_df = pd.DataFrame(high_rated_genre_percentage)\n",
    "\n",
    "# Display the resulting DataFrame\n",
    "print(high_rated_genre_percentage_df)\n",
    "\n",
    "\n"
   ]
  },
  {
   "cell_type": "markdown",
   "metadata": {},
   "source": [
    "# Top 3 Platforms by Genre\n",
    "\n",
    "| **Genre**        | **1st**           | **2nd**           | **3rd**           |\n",
    "|-------------------|-------------------|-------------------|-------------------|\n",
    "| Action           | HBO (28.8%)      | Hulu (28.4%)      | Netflix (19.2%)   |\n",
    "| Adventure        | Hulu (33.6%)     | HBO (31.1%)       | Netflix (22.4%)   |\n",
    "| Animation        | Hulu (38.2%)     | HBO (38.3%)       | Netflix (26.8%)   |\n",
    "| Biography        | HBO (37.1%)      | Hulu (32.1%)      | Apple (29.3%)     |\n",
    "| Comedy           | HBO (28.9%)      | Hulu (26.6%)      | Netflix (17.0%)   |\n",
    "| Crime            | HBO (31.0%)      | Hulu (29.7%)      | Apple (19.5%)     |\n",
    "| Documentary      | Apple (45.3%)    | Amazon (36.0%)    | Hulu (35.0%)      |\n",
    "| Drama            | HBO (39.5%)      | Hulu (29.5%)      | Netflix (21.8%)   |\n",
    "| Family           | HBO (38.1%)      | Hulu (14.7%)      | Apple (11.3%)     |\n",
    "| Fantasy          | HBO (25.2%)      | Hulu (22.1%)      | Netflix (21.6%)   |\n",
    "| Film-Noir        | HBO (60.0%)      | Amazon (6.4%)     | Apple (8.3%)      |\n",
    "| Game-Show        | Apple (45.2%)    | Netflix (20.0%)   | HBO (20.6%)       |\n",
    "| History          | HBO (44.4%)      | Apple (43.9%)     | Hulu (36.2%)      |\n",
    "| Horror           | HBO (10.1%)      | Hulu (7.5%)       | Netflix (8.0%)    |\n",
    "| Music            | HBO (43.2%)      | Apple (22.9%)     | Hulu (26.7%)      |\n",
    "| Musical          | HBO (47.1%)      | Apple (20.2%)     | Netflix (19.4%)   |\n",
    "| Mystery          | HBO (28.2%)      | Hulu (24.0%)      | Netflix (15.8%)   |\n",
    "| News             | Apple (50.0%)    | Amazon (43.8%)    | Netflix (33.3%)   |\n",
    "| Reality-TV       | Apple (31.0%)    | Amazon (31.9%)    | HBO (29.3%)       |\n",
    "| Romance          | HBO (33.0%)      | Hulu (21.8%)      | Netflix (18.0%)   |\n",
    "| Science Fiction  | HBO (22.0%)      | Hulu (13.8%)      | Apple (11.3%)     |\n",
    "| Short            | HBO (26.8%)      | Apple (25.0%)     | Amazon (25.4%)    |\n",
    "| Sport            | HBO (42.2%)      | Apple (31.6%)     | Hulu (31.6%)      |\n",
    "| TV Movie         | Amazon (33.3%)   | Apple (14.3%)     | N/A               |\n",
    "| Talk-Show        | Hulu (54.5%)     | Apple (26.9%)     | Netflix (24.1%)   |\n",
    "| Thriller         | HBO (25.0%)      | Hulu (10.3%)      | Netflix (9.8%)    |\n",
    "| War              | HBO (51.0%)      | Hulu (53.3%)      | Apple (33.3%)     |\n",
    "| Western          | Hulu (22.2%)     | Netflix (20.0%)   | HBO (17.6%)       |\n",
    "\n",
    "# Top 3 Genres by Platform\n",
    "\n",
    "| **Platform**     | **1st Genre**     | **2nd Genre**     | **3rd Genre**     |\n",
    "|-------------------|-------------------|-------------------|-------------------|\n",
    "| Amazon           | News (43.8%)      | Documentary (36.0%) | Reality-TV (31.9%) |\n",
    "| Netflix          | Adventure (22.4%) | Animation (26.8%)   | Biography (27.8%)  |\n",
    "| HBO              | Film-Noir (60.0%) | War (51.0%)         | History (44.4%)    |\n",
    "| Hulu             | Talk-Show (54.5%) | War (53.3%)         | Animation (38.2%)  |\n",
    "| Apple            | News (50.0%)      | Game-Show (45.2%)   | Documentary (45.3%) |\n"
   ]
  }
 ],
 "metadata": {
  "kernelspec": {
   "display_name": "Env_Streaming_Analysis",
   "language": "python",
   "name": "python3"
  },
  "language_info": {
   "codemirror_mode": {
    "name": "ipython",
    "version": 3
   },
   "file_extension": ".py",
   "mimetype": "text/x-python",
   "name": "python",
   "nbconvert_exporter": "python",
   "pygments_lexer": "ipython3",
   "version": "3.12.8"
  }
 },
 "nbformat": 4,
 "nbformat_minor": 2
}
